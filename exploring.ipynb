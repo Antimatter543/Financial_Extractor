{
 "cells": [
  {
   "cell_type": "markdown",
   "metadata": {},
   "source": [
    "## Phase 1: Data extraction\n",
    "\n",
    "https://news.ycombinator.com/item?id=41614126\n",
    "\n",
    "https://github.com/conjuncts/gmft\n",
    "\n",
    "https://www.reddit.com/r/LocalLLaMA/comments/1854d06/table_extraction_from_pdf/ ==> some guy did https://docs.google.com/spreadsheets/d/12IhxHZbYF71dPl32PQpF_6pg9e9S8f9W4sTHt-B0KTg/edit?gid=0#gid=0 \n",
    "\n",
    "\n",
    "https://www.getmagical.com/blog/extract-table-from-pdf\n",
    "\n",
    "\n",
    "As to whether traditional OCR or LLMs are better for this task\n",
    "\n",
    "#### Conclusions:\n",
    "- We REALLY want to keep the right figures, so potentially trying lower end models for this, while it can be accurate a fair amount of the time, likely does not counteract the risk of it eventually hallucinating. Not all LLMs are equal.\n",
    "- [Marker](https://github.com/vikParuchuri/marker) has 20k stars on github and was found from the excel sheet; but has a commercial usage agreement so Nahh\n",
    "\n",
    "https://github.com/conjuncts/gmft ? => Relies on Table transformers (microsoft), small, seems ideal. I've also seen stuff for AWS textract but let's keep it simple for now."
   ]
  },
  {
   "cell_type": "code",
   "execution_count": 1,
   "metadata": {},
   "outputs": [
    {
     "name": "stderr",
     "output_type": "stream",
     "text": [
      "k:\\conda_envs\\commbank_env\\lib\\site-packages\\tqdm\\auto.py:21: TqdmWarning: IProgress not found. Please update jupyter and ipywidgets. See https://ipywidgets.readthedocs.io/en/stable/user_install.html\n",
      "  from .autonotebook import tqdm as notebook_tqdm\n"
     ]
    },
    {
     "ename": "AttributeError",
     "evalue": "'TATRFormattedTable' object has no attribute 'to_pandas'",
     "output_type": "error",
     "traceback": [
      "\u001b[1;31m---------------------------------------------------------------------------\u001b[0m",
      "\u001b[1;31mAttributeError\u001b[0m                            Traceback (most recent call last)",
      "Cell \u001b[1;32mIn[1], line 32\u001b[0m\n\u001b[0;32m     30\u001b[0m \u001b[38;5;28;01mif\u001b[39;00m \u001b[38;5;18m__name__\u001b[39m \u001b[38;5;241m==\u001b[39m \u001b[38;5;124m\"\u001b[39m\u001b[38;5;124m__main__\u001b[39m\u001b[38;5;124m\"\u001b[39m:\n\u001b[0;32m     31\u001b[0m     pdf_path \u001b[38;5;241m=\u001b[39m \u001b[38;5;124m\"\u001b[39m\u001b[38;5;124m./fwc_sample_financial_statement 1.pdf\u001b[39m\u001b[38;5;124m\"\u001b[39m\n\u001b[1;32m---> 32\u001b[0m     tables \u001b[38;5;241m=\u001b[39m \u001b[43mextract_tables_from_pdf\u001b[49m\u001b[43m(\u001b[49m\u001b[43mpdf_path\u001b[49m\u001b[43m)\u001b[49m\n\u001b[0;32m     33\u001b[0m     save_tables_as_csv(tables, \u001b[38;5;124m\"\u001b[39m\u001b[38;5;124mfinancial_statement\u001b[39m\u001b[38;5;124m\"\u001b[39m)\n",
      "Cell \u001b[1;32mIn[1], line 17\u001b[0m, in \u001b[0;36mextract_tables_from_pdf\u001b[1;34m(pdf_path)\u001b[0m\n\u001b[0;32m     15\u001b[0m     extracted_tables \u001b[38;5;241m=\u001b[39m detector\u001b[38;5;241m.\u001b[39mextract(page)\n\u001b[0;32m     16\u001b[0m     \u001b[38;5;28;01mfor\u001b[39;00m table \u001b[38;5;129;01min\u001b[39;00m extracted_tables:\n\u001b[1;32m---> 17\u001b[0m         df \u001b[38;5;241m=\u001b[39m \u001b[43mformatter\u001b[49m\u001b[38;5;241;43m.\u001b[39;49m\u001b[43mformat\u001b[49m\u001b[43m(\u001b[49m\u001b[43mtable\u001b[49m\u001b[43m)\u001b[49m\u001b[38;5;241;43m.\u001b[39;49m\u001b[43mto_pandas\u001b[49m()\n\u001b[0;32m     18\u001b[0m         tables\u001b[38;5;241m.\u001b[39mappend(df)\n\u001b[0;32m     20\u001b[0m doc\u001b[38;5;241m.\u001b[39mclose()\n",
      "\u001b[1;31mAttributeError\u001b[0m: 'TATRFormattedTable' object has no attribute 'to_pandas'"
     ]
    }
   ],
   "source": [
    "import gmft\n",
    "from gmft.auto import AutoTableDetector, AutoTableFormatter\n",
    "from gmft.pdf_bindings import PyPDFium2Document\n",
    "import pandas as pd\n",
    "\n",
    "def extract_tables_from_pdf(pdf_path):\n",
    "    \"\"\"Extracts tables from a PDF file and converts them to Pandas DataFrames.\"\"\"\n",
    "    detector = AutoTableDetector()\n",
    "    formatter = AutoTableFormatter()\n",
    "    \n",
    "    doc = PyPDFium2Document(pdf_path)\n",
    "    tables = []\n",
    "    \n",
    "    for page in doc:\n",
    "        extracted_tables = detector.extract(page)\n",
    "        for table in extracted_tables:\n",
    "            print(table)\n",
    "            df = formatter.format(table).to_pandas()\n",
    "            tables.append(df)\n",
    "    \n",
    "    doc.close()\n",
    "    return tables\n",
    "\n",
    "def save_tables_as_csv(tables, base_filename):\n",
    "    \"\"\"Saves extracted tables to CSV files.\"\"\"\n",
    "    for i, df in enumerate(tables):\n",
    "        filename = f\"{base_filename}_table_{i+1}.csv\"\n",
    "        df.to_csv(filename, index=False)\n",
    "        print(f\"Saved: {filename}\")\n",
    "\n",
    "if __name__ == \"__main__\":\n",
    "    pdf_path = \"./fwc_sample_financial_statement 1.pdf\"\n",
    "    tables = extract_tables_from_pdf(pdf_path)\n",
    "    save_tables_as_csv(tables, \"financial_statement\")\n"
   ]
  },
  {
   "cell_type": "code",
   "execution_count": null,
   "metadata": {},
   "outputs": [],
   "source": []
  },
  {
   "cell_type": "markdown",
   "metadata": {},
   "source": []
  }
 ],
 "metadata": {
  "kernelspec": {
   "display_name": "commbank_env",
   "language": "python",
   "name": "python3"
  },
  "language_info": {
   "codemirror_mode": {
    "name": "ipython",
    "version": 3
   },
   "file_extension": ".py",
   "mimetype": "text/x-python",
   "name": "python",
   "nbconvert_exporter": "python",
   "pygments_lexer": "ipython3",
   "version": "3.10.16"
  }
 },
 "nbformat": 4,
 "nbformat_minor": 2
}
